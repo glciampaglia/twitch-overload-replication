{
 "cells": [
  {
   "cell_type": "markdown",
   "metadata": {},
   "source": [
    "# Replication Notebook\n",
    "\n",
    "This notebook contains code and figure for the replication of the results in [Information Overload in Group Communication: From Conversation to Cacophony in the Twitch Chat](http://dx.doi.org/10.1098/rsos.191412) by Azadeh Nematzadeh, Giovanni Luca Ciampaglia, Yong-Yeol Ahn, and Alessandro Flammini.\n",
    "\n",
    "Aggregated count data are provided to replicate results reported in Figure 2, 3, 4, 6, and 8. \n",
    "\n",
    "To be able to run this notebook you will need Python 3. Please follow the installation instructions provided in the README. These include instructions to obtain the data. \n",
    "\n",
    "This notebook was created by Giovanni Luca Ciampaglia <glciampagl@gmail.com>"
   ]
  },
  {
   "cell_type": "markdown",
   "metadata": {},
   "source": [
    "## Imports\n",
    "\n",
    "Run this cell before executing any other cell in this notebook. It will import all necessary modules."
   ]
  },
  {
   "cell_type": "code",
   "execution_count": 98,
   "metadata": {},
   "outputs": [],
   "source": [
    "%matplotlib inline\n",
    "\n",
    "import os.path\n",
    "import numpy\n",
    "import pandas\n",
    "import matplotlib\n",
    "import contextlib\n",
    "import matplotlib.pyplot as plt\n",
    "\n",
    "from createdatasets import _bounds\n",
    "\n",
    "\n",
    "def plot_channel_timeseries(df, channel, xlim=None, grouper=None, level=None, by=None, freq='5Min'):\n",
    "    if level is not None or by is not None:\n",
    "        grouper = df.groupby(level=level, by=by)\n",
    "    elif grouper is None:\n",
    "        raise ValueError(\"must pass one of grouper=, level=, or by=\")\n",
    "    a = grouper.get_group(channel).loc[channel]\n",
    "    a = a.set_index('timestamp').sort_index()\n",
    "    m = a.messages.mean()\n",
    "    if xlim is not None:\n",
    "        a = a.loc[slice(*xlim)]\n",
    "    bounds = _bounds(a, df_mean=m)\n",
    "    a = a.resample(freq, level='timestamp').sum().fillna(0)\n",
    "    fig = plt.figure(figsize=(fig_width, fig_width / phi))\n",
    "    ax = fig.add_subplot(111)\n",
    "    plt.plot_date(a.index.values, a.messages.values.ravel(), \n",
    "                  color='black', linestyle='-', marker='')\n",
    "    for item in bounds.itertuples(index=False):\n",
    "        plt.axvspan(item.start, item.stop, color='lightgray', axes=ax) \n",
    "    ax.set_xlabel('')\n",
    "    ax.set_ylabel('Messages', fontsize='medium')\n",
    "    locator = matplotlib.dates.AutoDateLocator()\n",
    "    ax.xaxis.set_major_locator(locator)\n",
    "    formatter = matplotlib.dates.AutoDateFormatter(locator)\n",
    "    ax.xaxis.set_major_formatter(formatter)\n",
    "    plt.setp(ax.xaxis.get_ticklabels(), rotation=72, fontsize='small')\n",
    "    ax.get_figure().tight_layout(pad=0.2)\n",
    "    return ax\n",
    "\n",
    "\n",
    "def plot(df, **kwargs):\n",
    "    if len(df) == 0:\n",
    "        return\n",
    "    n_bins = 50\n",
    "    emax = numpy.ceil(numpy.log10(df['messages'].max()))\n",
    "    bins = numpy.logspace(0, emax, base=10, num=n_bins)\n",
    "    digits = numpy.digitize(df['messages'], bins)\n",
    "    dfg = df.groupby(digits, as_index=False).agg(['median', 'sem'])\n",
    "    dfg.columns = ['_'.join(item) for item in dfg.columns.get_values()]\n",
    "    ax = dfg.plot(x='messages_median',\n",
    "                  y='messagespc_median',\n",
    "                  yerr='messagespc_sem',\n",
    "                  legend=False,\n",
    "                  color='k',\n",
    "                  linestyle='',\n",
    "                  marker='o',\n",
    "                  **kwargs)\n",
    "    xmin, xmax = ax.get_xlim()\n",
    "    ax.axvspan(xmin=40, xmax=xmax, color='gray', alpha=.2)\n",
    "    ax.axvline(40, color='k')"
   ]
  },
  {
   "cell_type": "markdown",
   "metadata": {},
   "source": [
    "## Data loading\n",
    "\n",
    "Evaluate the following cell to load the data. By default, aggregated data files should have been downloaded in the sub-folder called `data`, relative to the path of the notebook itself. If you downloaded the data to a different location, change the value of the `data_path` variable below."
   ]
  },
  {
   "cell_type": "code",
   "execution_count": 99,
   "metadata": {},
   "outputs": [],
   "source": [
    "data_path = './data'\n",
    "\n",
    "counts_fn = 'counts.h5'\n",
    "counts_key = 'channel_5Min_total'\n",
    "counts_path = os.path.join(data_path, counts_fn)\n",
    "df_counts = pandas.read_hdf(counts_path, counts_key)\n",
    "\n",
    "stats_fn = 'stats.h5'\n",
    "stats_key = 'chan_stats'\n",
    "stats_path = os.path.join(data_path, stats_fn)\n",
    "df_stats = pandas.read_hdf(stats_path, stats_key)"
   ]
  },
  {
   "cell_type": "markdown",
   "metadata": {},
   "source": [
    "## Figure 1\n",
    "\n",
    "__caption__: _Study settings. (a) user interface of a Twitch stream. (b) schematic illustration of the information overload in a live streaming platform. Chat messages are information stimuli presented to the user at a certain rate (\\`information load\\'). A user participates in the conversation by writing messages into the chat at a certain rate (\\`user activity\\'). (c) Signature of information overload: user activity follows an inverted U-shape curve as a function of information load. This identifies two regimes, namely \\`conversational\\' and \\`overloaded\\' (shaded area). (d) two excerpts of chat logs: users chatting (left) and a situation with high repetition and disproportionate usage of emotes (right). In the overloaded regime messages will resemble more the latter than the former case._\n",
    "\n",
    "<img src=./img/Figure_1.png width=600>"
   ]
  },
  {
   "cell_type": "markdown",
   "metadata": {},
   "source": [
    "\n",
    "## Figure 2\n",
    "\n",
    "__caption__: _A typical time series of the volume of chat messages in a stream. We sampled the number of messages posted in the stream every 5 minutes. Here peak activity corresponds to roughly 32.8 messages. We infer the periods when a live broadcast took place (shaded areas) from sudden shifts in activity (see Methods)._\n",
    "\n",
    "\n",
    "__input__: `counts.h5`"
   ]
  },
  {
   "cell_type": "code",
   "execution_count": 101,
   "metadata": {},
   "outputs": [
    {
     "data": {
      "image/png": "[encoded data removed]",
      "text/plain": [
       "<matplotlib.figure.Figure at 0x7f5465c4db70>"
      ]
     },
     "metadata": {
      "needs_background": "light"
     },
     "output_type": "display_data"
    }
   ],
   "source": [
    "phi = 1.618  # figure aspect ratio\n",
    "fig_width = 4  # in inches\n",
    "\n",
    "# values used in the paper\n",
    "channel = 3720\n",
    "xlim = ('2014-09-05 06:00:00', '2014-09-07 06:00:00')\n",
    "# xlim = None\n",
    "\n",
    "df = df_counts.set_index('channel').loc[channel].copy()\n",
    "ax = plot_channel_timeseries(df, channel, level=0, xlim=xlim)"
   ]
  },
  {
   "cell_type": "markdown",
   "metadata": {},
   "source": [
    "## Figure 3\n",
    "\n",
    "__caption__: _User activity (messages per capita $M$) as a function of information load (number of messages $V$). The gray shaded area indicates the regime of overload --- for a comparison, cf. Fig. 1(c). We include only streams with at least 1,000 messages and at least 100 user observed during the full observation window overall ($N = 43,969$). To compute $M$ we average across chunks of messages sampled every $\\Delta t = 5\\mbox{min}$. To mitigate fluctuations due to undetected bots, we use the median instead of the sample average, and consider only chunks with number of users $U > 1$. Error bars represent standard error of the mean._\n",
    "\n",
    "__input__: `counts.h5` `stats.h5`"
   ]
  },
  {
   "cell_type": "code",
   "execution_count": 86,
   "metadata": {},
   "outputs": [
    {
     "data": {
      "image/png": "[encoded data removed]",
      "text/plain": [
       "<matplotlib.figure.Figure at 0x7f5465f03668>"
      ]
     },
     "metadata": {
      "needs_background": "light"
     },
     "output_type": "display_data"
    }
   ],
   "source": [
    "min_messages = 1000\n",
    "min_users = 100\n",
    "min_users_per_chunk = 1\n",
    "\n",
    "ok_channels = df_stats.query('messages >= @min_messages & users >= @min_users').index.tolist()\n",
    "\n",
    "query = \\\n",
    "    '(broadcast == True) & ' \\\n",
    "    '(messages > @min_users_per_chunk) & ' \\\n",
    "    'channel in @ok_channels'\n",
    "\n",
    "df = df_counts.query(query)\n",
    "plot(df, figsize=(4, 3))\n",
    "ax = plt.gca()\n",
    "plt.setp(ax.get_xaxis().get_ticklabels(), fontsize='large')\n",
    "plt.setp(ax.get_yaxis().get_ticklabels(), fontsize='large')\n",
    "plt.xlabel('$V$', fontsize='x-large')\n",
    "plt.ylabel('$M$', fontsize='x-large')\n",
    "plt.ylim(0, 4)\n",
    "plt.xscale('log')"
   ]
  },
  {
   "cell_type": "markdown",
   "metadata": {},
   "source": [
    "## Figure 4\n",
    "\n",
    "__caption__: _User activity (messages per capita $M$) as a function of information load (number of messages $V$), broken down for the quartiles of the distribution of users per streams (see Fig. 8). The group with least active streams is denoted by $Q_1$. To estimate $M$, similar steps as in Fig. 3 were used, with the exception that we only consider chunks with $U > 2$._\n",
    "\n",
    "__input__: `counts.h5`, `stats.h5`"
   ]
  },
  {
   "cell_type": "code",
   "execution_count": 89,
   "metadata": {},
   "outputs": [
    {
     "data": {
      "image/png": "[encoded data removed]",
      "text/plain": [
       "<matplotlib.figure.Figure at 0x7f54668d0278>"
      ]
     },
     "metadata": {
      "needs_background": "light"
     },
     "output_type": "display_data"
    }
   ],
   "source": [
    "min_messages = 1000\n",
    "min_users = 100\n",
    "min_users_per_chunk = 2\n",
    "\n",
    "df_stats_filt = df_stats.query('messages >= @min_messages & users >= @min_users').copy()\n",
    "\n",
    "q = numpy.linspace(0, 100, 4, endpoint=False)\n",
    "pc = numpy.percentile(df_stats_filt['messages'], q)\n",
    "d = numpy.digitize(df_stats_filt['messages'], pc)\n",
    "df_stats_filt['quartile'] = d\n",
    "\n",
    "query = \\\n",
    "    '(broadcast == True) & ' \\\n",
    "    '(messages > @min_users_per_chunk) & ' \\\n",
    "    'channel in @ok_channels'\n",
    "\n",
    "grouper = df_stats_filt.reset_index().groupby('quartile')['channel']\n",
    "fig, axs = plt.subplots(nrows=2, ncols=2, figsize=(6, 5), sharex=True, sharey=True)\n",
    "\n",
    "for i, ax in zip(range(1, 5), axs.ravel()):\n",
    "    ok_channels = grouper.get_group(i).tolist()\n",
    "    df = df_counts.query(query)\n",
    "    df = df.reset_index(drop=True)\n",
    "    plot(df, ax=ax) \n",
    "    plt.sca(ax)\n",
    "    plt.setp(ax.get_xaxis().get_ticklabels(), fontsize='large')\n",
    "    plt.setp(ax.get_yaxis().get_ticklabels(), fontsize='large')\n",
    "    plt.ylim(0, 6)\n",
    "    plt.xscale('log')\n",
    "    plt.xlabel('')\n",
    "    plt.ylabel('')\n",
    "    \n",
    "axs[1, 0].set_xlabel('$V$', fontsize='x-large')\n",
    "axs[1, 1].set_xlabel('$V$', fontsize='x-large')\n",
    "axs[0, 0].set_ylabel('$M$', fontsize='x-large')\n",
    "axs[1, 0].set_ylabel('$M$', fontsize='x-large')\n",
    "plt.tight_layout()"
   ]
  },
  {
   "cell_type": "markdown",
   "metadata": {},
   "source": [
    "## Figure 5\n",
    "\n",
    "Not available."
   ]
  },
  {
   "cell_type": "markdown",
   "metadata": {},
   "source": [
    "## Figure 6\n",
    "\n",
    "__caption__: _User activity (messages per capita $M$) as a function of information load (number of messages $V$) for periods of video inactivity (corresponding to unshaded areas in Fig. 3. During these periods the streamer is offline, and the video is either blank or set to a still image._\n",
    "\n",
    "__input__: `counts.h5`"
   ]
  },
  {
   "cell_type": "code",
   "execution_count": 93,
   "metadata": {},
   "outputs": [
    {
     "data": {
      "image/png": "[encoded data removed]",
      "text/plain": [
       "<matplotlib.figure.Figure at 0x7f54667b3438>"
      ]
     },
     "metadata": {
      "needs_background": "light"
     },
     "output_type": "display_data"
    }
   ],
   "source": [
    "min_messages = 1000\n",
    "min_users = 100\n",
    "min_users_per_chunk = 1\n",
    "\n",
    "ok_channels = df_stats.query('messages >= @min_messages & users >= @min_users').index.tolist()\n",
    "\n",
    "query = \\\n",
    "    '(broadcast == False) & ' \\\n",
    "    '(messages > @min_users_per_chunk) & ' \\\n",
    "    'channel in @ok_channels'\n",
    "\n",
    "df = df_counts.query(query)\n",
    "plot(df, figsize=(4, 3))\n",
    "ax = plt.gca()\n",
    "plt.setp(ax.get_xaxis().get_ticklabels(), fontsize='large')\n",
    "plt.setp(ax.get_yaxis().get_ticklabels(), fontsize='large')\n",
    "plt.xlabel('$V$', fontsize='x-large')\n",
    "plt.ylabel('$M$', fontsize='x-large')\n",
    "plt.ylim(0, 4)\n",
    "plt.xscale('log')"
   ]
  },
  {
   "cell_type": "markdown",
   "metadata": {},
   "source": [
    "## Figure 7\n",
    "\n",
    "Not available."
   ]
  },
  {
   "cell_type": "markdown",
   "metadata": {},
   "source": [
    "## Figure 8\n",
    "\n",
    "__caption__: _Left:  distribution of the number of messages per stream (black dashed line) and per user (solid greyline).  Right:  distribution of the number of users per stream.  All quantities show broad distributions._\n",
    "\n",
    "__input__: `stats.h5`\n"
   ]
  },
  {
   "cell_type": "code",
   "execution_count": 68,
   "metadata": {},
   "outputs": [
    {
     "data": {
      "image/png": "[encoded data removed]",
      "text/plain": [
       "<matplotlib.figure.Figure at 0x7f546629b2b0>"
      ]
     },
     "metadata": {
      "needs_background": "light"
     },
     "output_type": "display_data"
    }
   ],
   "source": [
    "fig, axs = plt.subplots(nrows=1, ncols=2, figsize=(6, 4))\n",
    "\n",
    "# left panel - users\n",
    "df = pandas.read_hdf(stats_path, 'user_stats')\n",
    "df = df.drop_duplicates('messages').sort_values('messages')\n",
    "ax = df.plot('messages', 'prob', ls='-', color='gray', lw=3, ax=axs[0], label='Users')\n",
    "\n",
    "# left panel - channels\n",
    "df = pandas.read_hdf(stats_path, 'chan_stats')\n",
    "df = df.drop_duplicates('messages').sort_values('messages')\n",
    "ax = df.plot('messages', 'messages_prob', ls='--', color='k', lw=3, ax=axs[0], label='Rooms')\n",
    "\n",
    "# left panel\n",
    "plt.sca(ax)\n",
    "plt.xscale('log')\n",
    "plt.yscale('log')\n",
    "plt.xlabel(r'Messages $v$', fontsize='x-large')\n",
    "plt.ylabel(r'$\\Pr\\{V \\ge v\\}$', fontsize='x-large')\n",
    "plt.legend(loc='lower left', frameon=False, fontsize='large')\n",
    "\n",
    "# right panel\n",
    "df = pandas.read_hdf(stats_path, 'chan_stats')\n",
    "df = df.drop_duplicates('users').sort_values('users')\n",
    "ax = df.plot('users', 'users_prob', ls='-', color='k', lw=2, ax=axs[1], legend=False)\n",
    "plt.sca(ax)\n",
    "plt.xscale('log')\n",
    "plt.yscale('log')\n",
    "plt.xlabel(r'Users $u$', fontsize='x-large')\n",
    "plt.ylabel(r'$\\Pr\\{U \\ge u\\}$', fontsize='x-large')\n",
    "\n",
    "plt.tight_layout(pad=1.0)"
   ]
  },
  {
   "cell_type": "markdown",
   "metadata": {},
   "source": [
    "## Figure 9\n",
    "\n",
    "Not available."
   ]
  }
 ],
 "metadata": {
  "kernelspec": {
   "display_name": "Python 3",
   "language": "python",
   "name": "python3"
  },
  "language_info": {
   "codemirror_mode": {
    "name": "ipython",
    "version": 3
   },
   "file_extension": ".py",
   "mimetype": "text/x-python",
   "name": "python",
   "nbconvert_exporter": "python",
   "pygments_lexer": "ipython3",
   "version": "3.6.2"
  }
 },
 "nbformat": 4,
 "nbformat_minor": 2
}
